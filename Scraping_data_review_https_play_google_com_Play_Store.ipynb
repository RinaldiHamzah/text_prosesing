{
  "nbformat": 4,
  "nbformat_minor": 0,
  "metadata": {
    "colab": {
      "provenance": [],
      "authorship_tag": "ABX9TyN5rZkwgvvefqgy/b6p+yvK",
      "include_colab_link": true
    },
    "kernelspec": {
      "name": "python3",
      "display_name": "Python 3"
    },
    "language_info": {
      "name": "python"
    }
  },
  "cells": [
    {
      "cell_type": "markdown",
      "metadata": {
        "id": "view-in-github",
        "colab_type": "text"
      },
      "source": [
        "<a href=\"https://colab.research.google.com/github/RinaldiHamzah/text_prosesing/blob/main/Scraping_data_review_https_play_google_com_Play_Store.ipynb\" target=\"_parent\"><img src=\"https://colab.research.google.com/assets/colab-badge.svg\" alt=\"Open In Colab\"/></a>"
      ]
    },
    {
      "cell_type": "code",
      "execution_count": null,
      "metadata": {
        "colab": {
          "base_uri": "https://localhost:8080/"
        },
        "id": "s5VGYrOrrKbA",
        "outputId": "6bb17771-7e59-4360-d600-9214498a8f21"
      },
      "outputs": [
        {
          "output_type": "stream",
          "name": "stdout",
          "text": [
            "Mounted at /content/drive\n"
          ]
        }
      ],
      "source": [
        "from google.colab import drive\n",
        "drive.mount('/content/drive')"
      ]
    },
    {
      "cell_type": "code",
      "source": [
        "# install dulu\n",
        "!pip install google-play-scraper\n"
      ],
      "metadata": {
        "colab": {
          "base_uri": "https://localhost:8080/"
        },
        "id": "yvTAtnb-sOKz",
        "outputId": "d8081a9e-cb4f-48a1-e93e-4bb9625776b0"
      },
      "execution_count": null,
      "outputs": [
        {
          "output_type": "stream",
          "name": "stdout",
          "text": [
            "Collecting google-play-scraper\n",
            "  Downloading google_play_scraper-1.2.7-py3-none-any.whl.metadata (50 kB)\n",
            "\u001b[?25l     \u001b[90m━━━━━━━━━━━━━━━━━━━━━━━━━━━━━━━━━━━━━━━━\u001b[0m \u001b[32m0.0/50.2 kB\u001b[0m \u001b[31m?\u001b[0m eta \u001b[36m-:--:--\u001b[0m\r\u001b[2K     \u001b[90m━━━━━━━━━━━━━━━━━━━━━━━━━━━━━━━━━━━━━━━━\u001b[0m \u001b[32m50.2/50.2 kB\u001b[0m \u001b[31m2.5 MB/s\u001b[0m eta \u001b[36m0:00:00\u001b[0m\n",
            "\u001b[?25hDownloading google_play_scraper-1.2.7-py3-none-any.whl (28 kB)\n",
            "Installing collected packages: google-play-scraper\n",
            "Successfully installed google-play-scraper-1.2.7\n"
          ]
        }
      ]
    },
    {
      "cell_type": "code",
      "source": [
        "import pandas as pd\n",
        "import numpy as np"
      ],
      "metadata": {
        "id": "FGS8fsmLuWGk"
      },
      "execution_count": null,
      "outputs": []
    },
    {
      "cell_type": "markdown",
      "source": [
        "Tujuan\tNilai yang dipakai\n",
        "\n",
        "Ulasan paling relevan\tSort.MOST_RELEVANT\n",
        "\n",
        "Ulasan terbaru\tSort.NEWEST\n",
        "\n",
        "Rating tertinggi\tSort.RATING\n",
        "\n",
        "Ulasan dengan like terbanyak\tSort.HELPFUL"
      ],
      "metadata": {
        "id": "v6nIkjgrv62D"
      }
    },
    {
      "cell_type": "code",
      "source": [
        "from google_play_scraper import reviews, Sort\n",
        "from google_play_scraper import app, reviews\n",
        "from google_play_scraper import Sort, reviews_all\n",
        "\n",
        "# Ambil review Livin’ by Mandiri\n",
        "hasil, _ = reviews(\n",
        "    'id.bmri.livin',\n",
        "    lang='id',\n",
        "    country='id',\n",
        "    count=1000,\n",
        "    sort=Sort.NEWEST\n",
        ")\n",
        "\n",
        "# Ambil hanya kolom yang dibutuhkan\n",
        "data = [{\n",
        "    'userName': r['userName'],\n",
        "    'content': r['content'],\n",
        "    'score': r['score'],\n",
        "    'at': r['at']\n",
        "} for r in hasil]\n",
        "\n",
        "# Buat DataFrame\n",
        "df = pd.DataFrame(data)\n",
        "\n",
        "# Simpan ke CSV\n",
        "df.to_csv(\"livin_reviews.csv\", index=False, encoding='utf-8')\n",
        "print(\"Data disimpan ke livin_reviews.csv\")\n",
        "print(df.head())"
      ],
      "metadata": {
        "colab": {
          "base_uri": "https://localhost:8080/"
        },
        "id": "KDTuo1L9ak-R",
        "outputId": "53db04a8-39a0-41c1-e48a-c1961d182bcb"
      },
      "execution_count": null,
      "outputs": [
        {
          "output_type": "stream",
          "name": "stdout",
          "text": [
            "Data disimpan ke livin_reviews.csv\n",
            "         userName                                            content  score  \\\n",
            "0      ratna hana                                            praktis      5   \n",
            "1  Nabila RayhanS  Update terbaru, APLIKASI CACAT GAMPANG DIRETAS...      1   \n",
            "2   Fauziah Hanum                  ribet login nya keseringan update      1   \n",
            "3   Muhamad Husni           sangat membantu setiap waktu di butuhkan      5   \n",
            "4       Silva Aja             kenapa ga bisa login ke aplikasi Livin      2   \n",
            "\n",
            "                   at  \n",
            "0 2025-10-05 04:57:17  \n",
            "1 2025-10-05 04:52:02  \n",
            "2 2025-10-05 04:48:25  \n",
            "3 2025-10-05 04:24:37  \n",
            "4 2025-10-05 04:16:18  \n"
          ]
        }
      ]
    },
    {
      "cell_type": "code",
      "source": [
        "# import pandas as pd\n",
        "\n",
        "# df = pd.DataFrame(hasil)\n",
        "# df.to_csv(\"livin_reviews.csv\", index=False, encoding='utf-8')\n",
        "# print(\"File tersimpan: livin_reviews.csv\")"
      ],
      "metadata": {
        "colab": {
          "base_uri": "https://localhost:8080/"
        },
        "id": "7nl2DsQpR1Ab",
        "outputId": "1798e922-1304-48e0-ea70-53124b63d285"
      },
      "execution_count": null,
      "outputs": [
        {
          "output_type": "stream",
          "name": "stdout",
          "text": [
            "File tersimpan: livin_reviews.csv\n"
          ]
        }
      ]
    }
  ]
}